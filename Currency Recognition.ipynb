{
 "cells": [
  {
   "cell_type": "code",
   "execution_count": 1,
   "metadata": {},
   "outputs": [],
   "source": [
    "import numpy as np\n",
    "import cv2\n",
    "import pandas as pd\n",
    "import os \n",
    "import random"
   ]
  },
  {
   "cell_type": "code",
   "execution_count": 2,
   "metadata": {},
   "outputs": [],
   "source": [
    "training_set =[]\n",
    "for filename in os.listdir(\"TrainingSet/USD\"):\n",
    "    filename = os.path.join(\"TrainingSet/USD\", filename)\n",
    "    if (filename.endswith(\".jpg\") or filename.endswith(\".png\") or filename.endswith(\".jpg\")):\n",
    "        img = cv2.imread(filename,1)\n",
    "        img = cv2.cvtColor(img, cv2.COLOR_BGR2GRAY)\n",
    "        img =cv2.resize(img, (64,64))\n",
    "        training_set.append([img/float(255),0])"
   ]
  },
  {
   "cell_type": "code",
   "execution_count": 3,
   "metadata": {},
   "outputs": [],
   "source": [
    "for filename in os.listdir(\"TrainingSet/Euro\"):\n",
    "    filename = os.path.join(\"TrainingSet/Euro\", filename)\n",
    "    if (filename.endswith(\".jpg\") or filename.endswith(\".png\") or filename.endswith(\".jpg\")):\n",
    "        img = cv2.imread(filename,1)\n",
    "        img = cv2.cvtColor(img, cv2.COLOR_BGR2GRAY)\n",
    "        img =cv2.resize(img, (64,64))\n",
    "        training_set.append([img/float(255),1])"
   ]
  },
  {
   "cell_type": "code",
   "execution_count": 4,
   "metadata": {},
   "outputs": [],
   "source": [
    "random.shuffle(training_set)"
   ]
  },
  {
   "cell_type": "code",
   "execution_count": 5,
   "metadata": {},
   "outputs": [],
   "source": [
    "data = []\n",
    "label =[]\n",
    "for feature,class_num in training_set:\n",
    "    data.append(feature)\n",
    "    label.append(class_num)\n",
    "\n",
    "data = np.array(data)\n",
    "label = np.array(label)"
   ]
  },
  {
   "cell_type": "code",
   "execution_count": 6,
   "metadata": {},
   "outputs": [
    {
     "data": {
      "text/plain": [
       "(238, 64, 64, 1)"
      ]
     },
     "execution_count": 6,
     "metadata": {},
     "output_type": "execute_result"
    }
   ],
   "source": [
    "data = data.reshape(data.shape[0],64,64,1)\n",
    "data.shape"
   ]
  },
  {
   "cell_type": "code",
   "execution_count": 20,
   "metadata": {},
   "outputs": [],
   "source": [
    "from keras.models import Sequential\n",
    "from keras.layers import Conv2D, MaxPooling2D, Dropout, Flatten, Dense\n",
    "from keras.callbacks import ModelCheckpoint"
   ]
  },
  {
   "cell_type": "code",
   "execution_count": 21,
   "metadata": {},
   "outputs": [
    {
     "name": "stdout",
     "output_type": "stream",
     "text": [
      "Model: \"sequential_3\"\n",
      "_________________________________________________________________\n",
      "Layer (type)                 Output Shape              Param #   \n",
      "=================================================================\n",
      "conv2d_6 (Conv2D)            (None, 62, 62, 32)        320       \n",
      "_________________________________________________________________\n",
      "conv2d_7 (Conv2D)            (None, 60, 60, 32)        9248      \n",
      "_________________________________________________________________\n",
      "max_pooling2d_3 (MaxPooling2 (None, 20, 20, 32)        0         \n",
      "_________________________________________________________________\n",
      "flatten_3 (Flatten)          (None, 12800)             0         \n",
      "_________________________________________________________________\n",
      "dense_12 (Dense)             (None, 64)                819264    \n",
      "_________________________________________________________________\n",
      "dropout_9 (Dropout)          (None, 64)                0         \n",
      "_________________________________________________________________\n",
      "dense_13 (Dense)             (None, 1)                 65        \n",
      "=================================================================\n",
      "Total params: 828,897\n",
      "Trainable params: 828,897\n",
      "Non-trainable params: 0\n",
      "_________________________________________________________________\n"
     ]
    }
   ],
   "source": [
    "model = Sequential()\n",
    "model.add(Conv2D(32, (3,3), input_shape = (64,64,1), activation = \"relu\"))\n",
    "model.add(Conv2D(32,(3,3)))\n",
    "\n",
    "model.add(MaxPooling2D(3,3))\n",
    "model.add(Flatten())\n",
    "\n",
    "model.add(Dense(64, activation ='relu'))\n",
    "model.add(Dropout(0.5))\n",
    "\n",
    "model.add(Dense(1,activation = 'sigmoid'))\n",
    "model.compile(optimizer = 'adam', loss ='binary_crossentropy', metrics = ['accuracy'])\n",
    "model.summary()"
   ]
  },
  {
   "cell_type": "code",
   "execution_count": 22,
   "metadata": {},
   "outputs": [
    {
     "name": "stdout",
     "output_type": "stream",
     "text": [
      "Epoch 1/20\n",
      "2/2 [==============================] - 1s 383ms/step - loss: 0.9996 - accuracy: 0.5462\n",
      "Epoch 2/20\n",
      "2/2 [==============================] - 1s 384ms/step - loss: 0.8118 - accuracy: 0.5462\n",
      "Epoch 3/20\n",
      "2/2 [==============================] - 1s 379ms/step - loss: 0.7605 - accuracy: 0.5168\n",
      "Epoch 4/20\n",
      "2/2 [==============================] - 1s 388ms/step - loss: 0.6376 - accuracy: 0.6429\n",
      "Epoch 5/20\n",
      "2/2 [==============================] - 1s 386ms/step - loss: 0.9514 - accuracy: 0.6176\n",
      "Epoch 6/20\n",
      "2/2 [==============================] - 1s 390ms/step - loss: 0.6544 - accuracy: 0.6134\n",
      "Epoch 7/20\n",
      "2/2 [==============================] - 1s 382ms/step - loss: 0.5966 - accuracy: 0.7269\n",
      "Epoch 8/20\n",
      "2/2 [==============================] - 1s 385ms/step - loss: 0.5436 - accuracy: 0.7227\n",
      "Epoch 9/20\n",
      "2/2 [==============================] - 1s 381ms/step - loss: 0.5606 - accuracy: 0.7311\n",
      "Epoch 10/20\n",
      "2/2 [==============================] - 1s 391ms/step - loss: 0.5024 - accuracy: 0.7353\n",
      "Epoch 11/20\n",
      "2/2 [==============================] - 1s 377ms/step - loss: 0.4923 - accuracy: 0.7563\n",
      "Epoch 12/20\n",
      "2/2 [==============================] - 1s 417ms/step - loss: 0.4694 - accuracy: 0.7815\n",
      "Epoch 13/20\n",
      "2/2 [==============================] - 1s 423ms/step - loss: 0.4167 - accuracy: 0.8445\n",
      "Epoch 14/20\n",
      "2/2 [==============================] - 1s 446ms/step - loss: 0.4307 - accuracy: 0.8151\n",
      "Epoch 15/20\n",
      "2/2 [==============================] - 1s 386ms/step - loss: 0.3775 - accuracy: 0.8487\n",
      "Epoch 16/20\n",
      "2/2 [==============================] - 1s 385ms/step - loss: 0.3503 - accuracy: 0.8950\n",
      "Epoch 17/20\n",
      "2/2 [==============================] - 1s 380ms/step - loss: 0.3784 - accuracy: 0.8487\n",
      "Epoch 18/20\n",
      "2/2 [==============================] - 1s 387ms/step - loss: 0.3656 - accuracy: 0.8782\n",
      "Epoch 19/20\n",
      "2/2 [==============================] - 1s 384ms/step - loss: 0.3470 - accuracy: 0.8613\n",
      "Epoch 20/20\n",
      "2/2 [==============================] - 1s 390ms/step - loss: 0.3238 - accuracy: 0.8613\n"
     ]
    },
    {
     "data": {
      "text/plain": [
       "<tensorflow.python.keras.callbacks.History at 0x2a8b42c6a48>"
      ]
     },
     "execution_count": 22,
     "metadata": {},
     "output_type": "execute_result"
    }
   ],
   "source": [
    "#checkpoint =ModelCheckpoint(filepath ='CNN.h5', verbose = 0, save_best_only= True)\n",
    "model.fit(data,label, epochs = 20, batch_size = 128)"
   ]
  },
  {
   "cell_type": "code",
   "execution_count": 23,
   "metadata": {},
   "outputs": [],
   "source": [
    "model.save(\"CurrencyRecognition_1.h5\")"
   ]
  },
  {
   "cell_type": "code",
   "execution_count": 19,
   "metadata": {},
   "outputs": [
    {
     "data": {
      "text/plain": [
       "(array([0, 1]), array([106, 132], dtype=int64))"
      ]
     },
     "execution_count": 19,
     "metadata": {},
     "output_type": "execute_result"
    }
   ],
   "source": [
    "np.unique(label,return_counts = True)"
   ]
  },
  {
   "cell_type": "code",
   "execution_count": null,
   "metadata": {},
   "outputs": [],
   "source": []
  }
 ],
 "metadata": {
  "kernelspec": {
   "display_name": "Python 3",
   "language": "python",
   "name": "python3"
  },
  "language_info": {
   "codemirror_mode": {
    "name": "ipython",
    "version": 3
   },
   "file_extension": ".py",
   "mimetype": "text/x-python",
   "name": "python",
   "nbconvert_exporter": "python",
   "pygments_lexer": "ipython3",
   "version": "3.7.6"
  }
 },
 "nbformat": 4,
 "nbformat_minor": 4
}

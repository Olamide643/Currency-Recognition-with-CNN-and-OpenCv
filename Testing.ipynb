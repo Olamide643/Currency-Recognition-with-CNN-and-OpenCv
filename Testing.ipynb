{
 "cells": [
  {
   "cell_type": "code",
   "execution_count": 33,
   "metadata": {},
   "outputs": [],
   "source": [
    "import cv2\n",
    "from keras.models import load_model\n",
    "import numpy as np"
   ]
  },
  {
   "cell_type": "code",
   "execution_count": 34,
   "metadata": {},
   "outputs": [],
   "source": [
    "model = load_model('CurrencyRecognition_1.h5')"
   ]
  },
  {
   "cell_type": "code",
   "execution_count": 35,
   "metadata": {},
   "outputs": [],
   "source": [
    "def capture():\n",
    "    video_capture = cv2.VideoCapture(0)\n",
    "    while True:\n",
    "        _, frame = video_capture.read()\n",
    "        k = cv2.waitKey(1)\n",
    "        if k%256 ==32:\n",
    "            img = frame\n",
    "            break\n",
    "        if k%256 ==27:\n",
    "            break\n",
    "            img =  None\n",
    "        cv2.imshow('Video', frame)\n",
    "    video_capture.release()\n",
    "    cv2.destroyAllWindows()\n",
    "    return img\n",
    "\n",
    "def processImage(img):\n",
    "    img = cv2.cvtColor(img, cv2.COLOR_BGR2GRAY)\n",
    "    img = cv2.resize(img, (64,64))\n",
    "    img = img/float(255)\n",
    "    img = np.array(img)\n",
    "    img = img.reshape(1,64,64,1)\n",
    "    pred = model.predict(img)\n",
    "    #print(pred[0][0])\n",
    "    if pred[0][0] >= 0.5:\n",
    "        name = \"Euro\"\n",
    "    else:\n",
    "        name = \"Dollar\"\n",
    "    return pred,name\n",
    "    "
   ]
  },
  {
   "cell_type": "code",
   "execution_count": 36,
   "metadata": {},
   "outputs": [],
   "source": [
    "def process():\n",
    "    img = capture()\n",
    "    if img is not None:\n",
    "        pred, name = processImage(img)\n",
    "        print(pred,name)\n",
    "        cv2.imshow(name,img)\n",
    "        cv2.waitKey(0)\n",
    "        cv2.destroyAllWindows()\n",
    "    else:\n",
    "        pass"
   ]
  },
  {
   "cell_type": "code",
   "execution_count": 39,
   "metadata": {},
   "outputs": [
    {
     "name": "stdout",
     "output_type": "stream",
     "text": [
      "[[0.41662726]] Dollar\n"
     ]
    }
   ],
   "source": [
    "process()"
   ]
  },
  {
   "cell_type": "code",
   "execution_count": null,
   "metadata": {},
   "outputs": [],
   "source": []
  }
 ],
 "metadata": {
  "kernelspec": {
   "display_name": "Python 3",
   "language": "python",
   "name": "python3"
  },
  "language_info": {
   "codemirror_mode": {
    "name": "ipython",
    "version": 3
   },
   "file_extension": ".py",
   "mimetype": "text/x-python",
   "name": "python",
   "nbconvert_exporter": "python",
   "pygments_lexer": "ipython3",
   "version": "3.7.6"
  }
 },
 "nbformat": 4,
 "nbformat_minor": 4
}
